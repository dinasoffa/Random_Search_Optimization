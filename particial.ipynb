{
 "cells": [
  {
   "cell_type": "code",
   "execution_count": 1,
   "id": "490177d0",
   "metadata": {},
   "outputs": [],
   "source": [
    "# Commented out IPython magic to ensure Python compatibility.\n",
    "import numpy as np\n",
    "from math import inf\n",
    "import matplotlib\n",
    "import matplotlib.pyplot as plt\n",
    "import os\n",
    "\n",
    "\n",
    "%matplotlib inline\n",
    "\n",
    "%matplotlib qt\n"
   ]
  },
  {
   "cell_type": "code",
   "execution_count": 2,
   "id": "7af31517",
   "metadata": {},
   "outputs": [],
   "source": [
    "class Partical:\n",
    "  def __init__(self,j,bound,varsize):\n",
    "    self.position=np.random.uniform(bound[:,0],bound[:,1]).reshape(varsize)\n",
    "    self.cost=j(self.position)\n",
    "    self.best_cost=self.cost\n",
    "    self.best_positiot=self.position\n",
    "    self.velocity=np.zeros(varsize)"
   ]
  },
  {
   "cell_type": "code",
   "execution_count": 3,
   "id": "90d089fb",
   "metadata": {},
   "outputs": [],
   "source": [
    "class global_partical:\n",
    "  global_cost=float(inf)\n",
    "  global_position=[]\n"
   ]
  },
  {
   "cell_type": "code",
   "execution_count": 4,
   "id": "e3a5cd72",
   "metadata": {},
   "outputs": [],
   "source": [
    "\"\"\"# calculate the cost function then predict \"\"\"\n",
    "\n",
    "X = np.linspace(-5 , 5 ,2000).reshape(-1,1)\n",
    "y = lambda x : -2*x  + 5 + np.random.rand()*0.7\n",
    "\n",
    "X\n",
    "\n",
    "y=y(X).reshape(-1,1)\n",
    "y\n",
    "\n",
    "m = 2*len(X)\n",
    "J = lambda x: sum(((x[0]*X + x[1])-y) ** 2)/m\n",
    "h_x=lambda x:x[0]*X + x[1]\n",
    "h_x_list=[]\n",
    "\n",
    "nvar=2\n",
    "varsize=np.array([nvar,1])\n",
    "varmin=[-5,-10]\n",
    "varmax=[10,8]\n",
    "bound=np.column_stack((varmin,varmax))\n",
    "\n",
    "# parameters\n",
    "w=1\n",
    "c1=1.5\n",
    "c2=2.5\n",
    "npop=50\n",
    "iteration=100\n",
    "damp=0.7\n"
   ]
  },
  {
   "cell_type": "code",
   "execution_count": 5,
   "id": "0b888a31",
   "metadata": {},
   "outputs": [
    {
     "name": "stdout",
     "output_type": "stream",
     "text": [
      "the best position is \n",
      " [[-1.99998237]\n",
      " [ 5.57412648]]\n"
     ]
    }
   ],
   "source": [
    "# initalization\n",
    "global_best=global_partical()\n",
    "partical=[None]*npop\n",
    "\n",
    "for i in range(npop):\n",
    "  partical[i]=Partical(J,bound,varsize)\n",
    "  if (partical[i].best_cost< global_best.global_cost).any():\n",
    "     global_best.global_cost=partical[i].cost\n",
    "     global_best.global_position =partical[i].position\n",
    "\n",
    "\n",
    "\n",
    "for it in range(iteration):\n",
    "  for j in range(npop):\n",
    "    partical[j].velocity=(damp*w*partical[j].velocity)+np.random.rand()*c1*(partical[j].best_positiot-partical[j].position)+ np.random.rand()*c2*(global_best.global_position-partical[j].position)\n",
    "    partical[j].position=partical[j].position + partical[j].velocity\n",
    "    \n",
    "    partical[j].cost=J(partical[j].position)\n",
    "\n",
    "\n",
    "\n",
    "    if (partical[j].cost<partical[j].best_cost).any():\n",
    "      partical[j].best_cost=partical[j].cost\n",
    "      partical[j].best_positiot=partical[j].position\n",
    "\n",
    "\n",
    "      if (partical[j].best_cost<global_best.global_cost).any():\n",
    "        global_best.global_cost=partical[j].best_cost\n",
    "        global_best.global_position=partical[j].best_positiot\n",
    "\n",
    "\n",
    "  best_line=h_x(global_best.global_position)\n",
    "  h_x_list.append(best_line)\n",
    "  #print(global_best.global_cost)\n",
    "  \n",
    "\n",
    "print(\"the best position is \\n\",global_best.global_position)\n"
   ]
  },
  {
   "cell_type": "code",
   "execution_count": 6,
   "id": "5ce68d94",
   "metadata": {},
   "outputs": [],
   "source": [
    "plt.scatter(X,y,label=\"y_actual\")\n",
    "\n",
    "\n",
    "\n",
    "plt.plot(X,best_line ,color='red')\n",
    "plt.title(\"the best line\")\n",
    "plt.xlabel(\"X\")\n",
    "plt.ylabel(\"y\")\n",
    "plt.legend()\n",
    "plt.show()\n",
    "\n",
    "fig, ax = plt.subplots()\n",
    "\n",
    "ax.set_title(\"the update line in each iteration\")\n",
    "ax.set_xlabel(\"X\")\n",
    "ax.set_ylabel(\"y\")\n",
    "#ax.legend()\n",
    "# Loop through each set of y data and plot it continuously\n",
    "for h in h_x_list:\n",
    "    # Plot the line and show the plot\n",
    "    if 'line' in locals():\n",
    "        line.remove()\n",
    "    line, = ax.plot(X,h, color='red')\n",
    "    fig.canvas.draw()\n",
    "\n",
    "    plt.pause(1)\n",
    "\n",
    "# Close the plot\n",
    "plt.close()\n"
   ]
  },
  {
   "cell_type": "code",
   "execution_count": null,
   "id": "d7a6af43",
   "metadata": {},
   "outputs": [],
   "source": []
  }
 ],
 "metadata": {
  "kernelspec": {
   "display_name": "Python 3 (ipykernel)",
   "language": "python",
   "name": "python3"
  },
  "language_info": {
   "codemirror_mode": {
    "name": "ipython",
    "version": 3
   },
   "file_extension": ".py",
   "mimetype": "text/x-python",
   "name": "python",
   "nbconvert_exporter": "python",
   "pygments_lexer": "ipython3",
   "version": "3.10.9"
  }
 },
 "nbformat": 4,
 "nbformat_minor": 5
}
