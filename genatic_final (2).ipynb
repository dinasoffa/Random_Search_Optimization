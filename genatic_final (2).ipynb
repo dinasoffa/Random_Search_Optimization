{
 "cells": [
  {
   "cell_type": "code",
   "execution_count": 38,
   "metadata": {
    "colab": {
     "base_uri": "https://localhost:8080/",
     "height": 519
    },
    "id": "k01xyQymsAXb",
    "outputId": "7c1ad0f5-1942-4ffd-a096-e09c168f72fe"
   },
   "outputs": [],
   "source": [
    "import numpy as np\n",
    "import pandas as pd\n",
    "import matplotlib.pyplot as plt\n",
    "import math\n",
    "%matplotlib qt\n",
    "from matplotlib.widgets import Cursor\n"
   ]
  },
  {
   "cell_type": "code",
   "execution_count": null,
   "metadata": {
    "id": "bgDDKSQDyPkP"
   },
   "outputs": [],
   "source": []
  },
  {
   "cell_type": "code",
   "execution_count": 39,
   "metadata": {
    "colab": {
     "base_uri": "https://localhost:8080/",
     "height": 520
    },
    "id": "1UWQBNdqtyzt",
    "outputId": "7b987afa-dc66-4af6-8b23-4da640bcca41"
   },
   "outputs": [
    {
     "data": {
      "text/html": [
       "<div>\n",
       "<style scoped>\n",
       "    .dataframe tbody tr th:only-of-type {\n",
       "        vertical-align: middle;\n",
       "    }\n",
       "\n",
       "    .dataframe tbody tr th {\n",
       "        vertical-align: top;\n",
       "    }\n",
       "\n",
       "    .dataframe thead th {\n",
       "        text-align: right;\n",
       "    }\n",
       "</style>\n",
       "<table border=\"1\" class=\"dataframe\">\n",
       "  <thead>\n",
       "    <tr style=\"text-align: right;\">\n",
       "      <th></th>\n",
       "      <th>x</th>\n",
       "      <th>y</th>\n",
       "      <th>City</th>\n",
       "    </tr>\n",
       "  </thead>\n",
       "  <tbody>\n",
       "    <tr>\n",
       "      <th>0</th>\n",
       "      <td>5.500000e-08</td>\n",
       "      <td>9.860000e-09</td>\n",
       "      <td>1</td>\n",
       "    </tr>\n",
       "    <tr>\n",
       "      <th>1</th>\n",
       "      <td>-2.887330e+01</td>\n",
       "      <td>-7.980000e-08</td>\n",
       "      <td>2</td>\n",
       "    </tr>\n",
       "    <tr>\n",
       "      <th>2</th>\n",
       "      <td>-7.929160e+01</td>\n",
       "      <td>-2.140330e+01</td>\n",
       "      <td>3</td>\n",
       "    </tr>\n",
       "    <tr>\n",
       "      <th>3</th>\n",
       "      <td>-1.465770e+01</td>\n",
       "      <td>-4.338960e+01</td>\n",
       "      <td>4</td>\n",
       "    </tr>\n",
       "    <tr>\n",
       "      <th>4</th>\n",
       "      <td>-6.474730e+01</td>\n",
       "      <td>2.189820e+01</td>\n",
       "      <td>5</td>\n",
       "    </tr>\n",
       "    <tr>\n",
       "      <th>5</th>\n",
       "      <td>-2.905850e+01</td>\n",
       "      <td>-4.321670e+01</td>\n",
       "      <td>6</td>\n",
       "    </tr>\n",
       "    <tr>\n",
       "      <th>6</th>\n",
       "      <td>-7.207850e+01</td>\n",
       "      <td>1.815810e-01</td>\n",
       "      <td>7</td>\n",
       "    </tr>\n",
       "    <tr>\n",
       "      <th>7</th>\n",
       "      <td>-3.603660e+01</td>\n",
       "      <td>-2.161350e+01</td>\n",
       "      <td>8</td>\n",
       "    </tr>\n",
       "    <tr>\n",
       "      <th>8</th>\n",
       "      <td>-5.048080e+01</td>\n",
       "      <td>7.374470e+00</td>\n",
       "      <td>9</td>\n",
       "    </tr>\n",
       "    <tr>\n",
       "      <th>9</th>\n",
       "      <td>-5.058590e+01</td>\n",
       "      <td>-2.158820e+01</td>\n",
       "      <td>10</td>\n",
       "    </tr>\n",
       "    <tr>\n",
       "      <th>10</th>\n",
       "      <td>-1.358190e-01</td>\n",
       "      <td>-2.872930e+01</td>\n",
       "      <td>11</td>\n",
       "    </tr>\n",
       "    <tr>\n",
       "      <th>11</th>\n",
       "      <td>-6.508660e+01</td>\n",
       "      <td>-3.606250e+01</td>\n",
       "      <td>12</td>\n",
       "    </tr>\n",
       "    <tr>\n",
       "      <th>12</th>\n",
       "      <td>-2.149830e+01</td>\n",
       "      <td>7.319420e+00</td>\n",
       "      <td>13</td>\n",
       "    </tr>\n",
       "    <tr>\n",
       "      <th>13</th>\n",
       "      <td>-5.756870e+01</td>\n",
       "      <td>-4.325060e+01</td>\n",
       "      <td>14</td>\n",
       "    </tr>\n",
       "    <tr>\n",
       "      <th>14</th>\n",
       "      <td>-4.307000e+01</td>\n",
       "      <td>1.455480e+01</td>\n",
       "      <td>15</td>\n",
       "    </tr>\n",
       "  </tbody>\n",
       "</table>\n",
       "</div>"
      ],
      "text/plain": [
       "               x             y  City\n",
       "0   5.500000e-08  9.860000e-09     1\n",
       "1  -2.887330e+01 -7.980000e-08     2\n",
       "2  -7.929160e+01 -2.140330e+01     3\n",
       "3  -1.465770e+01 -4.338960e+01     4\n",
       "4  -6.474730e+01  2.189820e+01     5\n",
       "5  -2.905850e+01 -4.321670e+01     6\n",
       "6  -7.207850e+01  1.815810e-01     7\n",
       "7  -3.603660e+01 -2.161350e+01     8\n",
       "8  -5.048080e+01  7.374470e+00     9\n",
       "9  -5.058590e+01 -2.158820e+01    10\n",
       "10 -1.358190e-01 -2.872930e+01    11\n",
       "11 -6.508660e+01 -3.606250e+01    12\n",
       "12 -2.149830e+01  7.319420e+00    13\n",
       "13 -5.756870e+01 -4.325060e+01    14\n",
       "14 -4.307000e+01  1.455480e+01    15"
      ]
     },
     "execution_count": 39,
     "metadata": {},
     "output_type": "execute_result"
    }
   ],
   "source": [
    "df = pd.read_excel(\"15-Points.xlsx\")\n",
    "df"
   ]
  },
  {
   "cell_type": "code",
   "execution_count": 40,
   "metadata": {
    "id": "1CRkyEFezklQ"
   },
   "outputs": [],
   "source": [
    "def euclidean_distance(c1,c2):\n",
    "    x1 = df.loc[df['City'] == c1, 'x'].iloc[0]\n",
    "    y1 = df.loc[df['City'] == c1, 'y'].iloc[0]\n",
    "    x2 = df.loc[df['City'] == c2, 'x'].iloc[0]\n",
    "    y2 = df.loc[df['City'] == c2, 'y'].iloc[0]\n",
    "    return math.sqrt((x2 - x1) ** 2 + (y2 - y1) ** 2)"
   ]
  },
  {
   "cell_type": "code",
   "execution_count": 41,
   "metadata": {
    "colab": {
     "base_uri": "https://localhost:8080/"
    },
    "id": "SoNhnAPv2mCs",
    "outputId": "9d50f4f6-1bdf-490e-bd1b-925d7cc171fb"
   },
   "outputs": [
    {
     "data": {
      "text/plain": [
       "array([[0., 0., 0., 0., 0., 0., 0., 0., 0., 0., 0., 0., 0., 0., 0.],\n",
       "       [0., 0., 0., 0., 0., 0., 0., 0., 0., 0., 0., 0., 0., 0., 0.],\n",
       "       [0., 0., 0., 0., 0., 0., 0., 0., 0., 0., 0., 0., 0., 0., 0.],\n",
       "       [0., 0., 0., 0., 0., 0., 0., 0., 0., 0., 0., 0., 0., 0., 0.],\n",
       "       [0., 0., 0., 0., 0., 0., 0., 0., 0., 0., 0., 0., 0., 0., 0.],\n",
       "       [0., 0., 0., 0., 0., 0., 0., 0., 0., 0., 0., 0., 0., 0., 0.],\n",
       "       [0., 0., 0., 0., 0., 0., 0., 0., 0., 0., 0., 0., 0., 0., 0.],\n",
       "       [0., 0., 0., 0., 0., 0., 0., 0., 0., 0., 0., 0., 0., 0., 0.],\n",
       "       [0., 0., 0., 0., 0., 0., 0., 0., 0., 0., 0., 0., 0., 0., 0.],\n",
       "       [0., 0., 0., 0., 0., 0., 0., 0., 0., 0., 0., 0., 0., 0., 0.],\n",
       "       [0., 0., 0., 0., 0., 0., 0., 0., 0., 0., 0., 0., 0., 0., 0.],\n",
       "       [0., 0., 0., 0., 0., 0., 0., 0., 0., 0., 0., 0., 0., 0., 0.],\n",
       "       [0., 0., 0., 0., 0., 0., 0., 0., 0., 0., 0., 0., 0., 0., 0.],\n",
       "       [0., 0., 0., 0., 0., 0., 0., 0., 0., 0., 0., 0., 0., 0., 0.],\n",
       "       [0., 0., 0., 0., 0., 0., 0., 0., 0., 0., 0., 0., 0., 0., 0.]])"
      ]
     },
     "execution_count": 41,
     "metadata": {},
     "output_type": "execute_result"
    }
   ],
   "source": [
    "dist_arr = np.zeros((15,15))\n",
    "dist_arr"
   ]
  },
  {
   "cell_type": "code",
   "execution_count": 42,
   "metadata": {
    "id": "auhqeZwZx7yc"
   },
   "outputs": [],
   "source": [
    "def distance_matrix(num_cities):\n",
    "  for c1 in range(num_cities-1):\n",
    "      for c2 in range(c1+1,num_cities):\n",
    "          dist_arr[c1,c2]= euclidean_distance(c1+1,c2+1)\n",
    "          dist_arr[c2,c1]=dist_arr[c1,c2]\n",
    "\n",
    "      dist_arr[c1,c1]=np.inf\n",
    "\n",
    "  dist_arr[c1+1,c1+1]=np.inf\n",
    "  return dist_arr"
   ]
  },
  {
   "cell_type": "code",
   "execution_count": 43,
   "metadata": {
    "colab": {
     "base_uri": "https://localhost:8080/"
    },
    "id": "w5nrIgolswV-",
    "outputId": "682d1335-a200-48d6-88b1-b580b66f1c65"
   },
   "outputs": [
    {
     "data": {
      "text/plain": [
       "array([[        inf, 28.87330006, 82.1295263 , 45.79853229, 68.35015748,\n",
       "        52.07763037, 72.07872878, 42.02118426, 51.01660496, 54.99985149,\n",
       "        28.72962105, 74.40947126, 22.71014783, 72.00534444, 45.46281016],\n",
       "       [28.87330006,         inf, 54.77322542, 45.6589604 , 42.02945447,\n",
       "        43.21709674, 43.20558157, 22.76963429, 22.83126946, 30.61841561,\n",
       "        40.63515089, 51.10681948, 10.39059841, 51.90414603, 20.33195751],\n",
       "       [82.1295263 , 54.77322542,         inf, 68.27106574, 45.67884154,\n",
       "        54.76484963, 22.7582051 , 43.25551074, 40.72127506, 28.70629549,\n",
       "        79.49407488, 20.41259831, 64.53727736, 30.80890945, 51.03909543],\n",
       "       [45.79853229, 45.6589604 , 68.27106574,         inf, 82.2889109 ,\n",
       "        14.40183791, 72.08048339, 30.51648565, 62.13119423, 42.02542798,\n",
       "        20.6351502 , 50.95841785, 51.16833511, 42.91122513, 64.53535684],\n",
       "       [68.35015748, 42.02945447, 45.67884154, 82.2889109 ,         inf,\n",
       "        74.25389315, 22.92069009, 52.13033984, 20.3585794 , 45.73414736,\n",
       "        82.08402545, 57.96169312, 45.64007918, 65.54310368, 22.8873515 ],\n",
       "       [52.07763037, 43.21709674, 54.76484963, 14.40183791, 74.25389315,\n",
       "                inf, 61.10753795, 22.70224944, 54.93979814, 30.51591328,\n",
       "        32.34820296, 36.7315473 , 51.0984936 , 28.51022015, 59.44634845],\n",
       "       [72.07872878, 43.20558157, 22.7582051 , 72.08048339, 22.92069009,\n",
       "        61.10753795,         inf, 42.11940303, 22.76396928, 30.59175084,\n",
       "        77.53443357, 36.91232955, 51.08136037, 45.79179667, 32.37410225],\n",
       "       [42.02118426, 22.76963429, 43.25551074, 30.51648565, 52.13033984,\n",
       "        22.70224944, 42.11940303,         inf, 32.38730181, 14.549322  ,\n",
       "        36.59918969, 32.44497035, 32.38017953, 30.52532435, 36.84582256],\n",
       "       [51.01660496, 22.83126946, 40.72127506, 62.13119423, 20.3585794 ,\n",
       "        54.93979814, 22.76396928, 32.38730181,         inf, 28.96286069,\n",
       "        61.9523956 , 45.82684537, 28.98255228, 51.11884231, 10.31877394],\n",
       "       [54.99985149, 30.61841561, 28.70629549, 42.02542798, 45.73414736,\n",
       "        30.51591328, 30.59175084, 14.549322  , 28.96286069,         inf,\n",
       "        50.95297815, 20.48842749, 41.00901081, 22.76003228, 36.91619159],\n",
       "       [28.72962105, 40.63515089, 79.49407488, 20.6351502 , 82.08402545,\n",
       "        32.34820296, 77.53443357, 36.59918969, 61.9523956 , 50.95297815,\n",
       "                inf, 65.36344372, 41.90305249, 59.2402226 , 60.96603326],\n",
       "       [74.40947126, 51.10681948, 20.41259831, 50.95841785, 57.96169312,\n",
       "        36.7315473 , 36.91232955, 32.44497035, 45.82684537, 20.48842749,\n",
       "        65.36344372,         inf, 61.49740547, 10.40132694, 55.19820409],\n",
       "       [22.71014783, 10.39059841, 64.53727736, 51.16833511, 45.64007918,\n",
       "        51.0984936 , 51.08136037, 32.38017953, 28.98255228, 41.00901081,\n",
       "        41.90305249, 61.49740547,         inf, 62.11602594, 22.75277927],\n",
       "       [72.00534444, 51.90414603, 30.80890945, 42.91122513, 65.54310368,\n",
       "        28.51022015, 45.79179667, 30.52532435, 51.11884231, 22.76003228,\n",
       "        59.2402226 , 10.40132694, 62.11602594,         inf, 59.59594425],\n",
       "       [45.46281016, 20.33195751, 51.03909543, 64.53535684, 22.8873515 ,\n",
       "        59.44634845, 32.37410225, 36.84582256, 10.31877394, 36.91619159,\n",
       "        60.96603326, 55.19820409, 22.75277927, 59.59594425,         inf]])"
      ]
     },
     "execution_count": 43,
     "metadata": {},
     "output_type": "execute_result"
    }
   ],
   "source": [
    "dist=distance_matrix(15)\n",
    "dist"
   ]
  },
  {
   "cell_type": "code",
   "execution_count": 44,
   "metadata": {
    "id": "WkKMh_r4VsXE"
   },
   "outputs": [],
   "source": [
    "def distance_chorm(Chromosome, distances):\n",
    "  dist = 0\n",
    "  c0 = Chromosome[0]\n",
    "  for i in range(len(Chromosome) - 1):\n",
    "      c1 = Chromosome[i]\n",
    "      c2 = Chromosome[i + 1]\n",
    "      dist += distances[c1, c2]\n",
    "\n",
    "  dist += distances[c0, c2]\n",
    "  return dist"
   ]
  },
  {
   "cell_type": "code",
   "execution_count": 45,
   "metadata": {
    "id": "rhlR9NebM-Tb"
   },
   "outputs": [],
   "source": [
    "def population(num_cities):\n",
    "  population=[]\n",
    "  for i in range(population_size):\n",
    "    # Create an initial population of solutions\n",
    "    chorm=np.random.permutation(num_cities)\n",
    "    population.append(chorm)\n",
    "  return np.array(population)  "
   ]
  },
  {
   "cell_type": "code",
   "execution_count": 46,
   "metadata": {
    "id": "8JNkDz-_Q7E2"
   },
   "outputs": [],
   "source": [
    "def cost_function(population,dist):\n",
    "  J = np.zeros((len(population)))\n",
    "  index = 0\n",
    "  for Chromosome in population:\n",
    "    total_dist = 0\n",
    "    c0 = Chromosome[0]\n",
    "    for i in range(len(Chromosome) - 1):\n",
    "      c1 = Chromosome[i]\n",
    "      c2 = Chromosome[i + 1]\n",
    "      total_dist += dist[c1, c2]\n",
    "\n",
    "    total_dist += dist[c0, c2]\n",
    "    J[index] = total_dist\n",
    "    index += 1\n",
    "  return J"
   ]
  },
  {
   "cell_type": "code",
   "execution_count": 47,
   "metadata": {
    "id": "UQdZNFyZ0BkY"
   },
   "outputs": [],
   "source": [
    "def crossover(chorm_1,chorm_2):\n",
    "\n",
    "\n",
    "  mask=[np.random.choice([0,1]) for _ in range(len(chorm_1))]\n",
    "\n",
    "  sub_1=[chorm_1[i] for i in range(len(chorm_1)) if mask[i]==1]\n",
    "  sub_2=[i for i in chorm_2 if i not in sub_1]\n",
    "\n",
    "  sub_3=[chorm_2[i] for i in range(len(chorm_2)) if mask[i]==1]\n",
    "  sub_4=[i for i in chorm_1 if i not in sub_3]\n",
    "\n",
    "\n",
    "  new_chorm_1=[None] * len(chorm_1)\n",
    "  new_chorm_2=[None] * len(chorm_1)\n",
    "  for j in range(len(chorm_1)):\n",
    "    if mask[j]==1:\n",
    "      new_chorm_1[j]=chorm_1[j]\n",
    "      new_chorm_2[j]=chorm_2[j]\n",
    "      \n",
    "    else:\n",
    "      \n",
    "      new_chorm_1[j]=sub_2.pop(0)\n",
    "      new_chorm_2[j]=sub_4.pop(0)\n",
    "      \n",
    "\n",
    "  return new_chorm_1,new_chorm_2     \n",
    "\n",
    "\n"
   ]
  },
  {
   "cell_type": "code",
   "execution_count": 48,
   "metadata": {
    "id": "QS8K-Y_SCJiU"
   },
   "outputs": [],
   "source": [
    "def Swaping_Mutation(chorm):\n",
    "  size_chorm=len(chorm)\n",
    "  swap=np.random.randint(0, size_chorm,2)\n",
    "\n",
    "  chorm[swap[0]],chorm[swap[1]]=chorm[swap[1]],chorm[swap[0]]\n",
    "  return chorm\n"
   ]
  },
  {
   "cell_type": "code",
   "execution_count": 49,
   "metadata": {
    "id": "3bPMsHWIEdTx"
   },
   "outputs": [],
   "source": [
    "def ScrambleMutation(chorm):\n",
    "  index_1=np.random.randint(0,len(chorm)-1)\n",
    "  index_2=np.random.randint(0,len(chorm)-1)\n",
    "\n",
    "  if index_1>index_2:\n",
    "    first=index_2\n",
    "    second=index_1\n",
    "\n",
    "  else:\n",
    "    first= index_1\n",
    "    second=index_2\n",
    "\n",
    "  scramble=chorm[first:second+1]\n",
    "  np.random.shuffle(scramble)\n",
    "  chorm[first:second+1]=scramble\n",
    "\n",
    "  return chorm  \n"
   ]
  },
  {
   "cell_type": "code",
   "execution_count": 50,
   "metadata": {
    "id": "-2I2lDgIAxc0"
   },
   "outputs": [],
   "source": [
    "def InversionMutation(chorm):\n",
    "  index_1=np.random.randint(0,len(chorm)-1)\n",
    "  index_2=np.random.randint(0,len(chorm)-1)\n",
    "\n",
    "  if index_1>index_2:\n",
    "    first=index_2\n",
    "    second=index_1\n",
    "\n",
    "  else:\n",
    "    first= index_1\n",
    "    second=index_2\n",
    "\n",
    "  inverse=chorm[first:second+1]\n",
    "  x=np.flip(inverse)\n",
    "  chorm[first:second+1]=x\n",
    "\n",
    "  return chorm  \n"
   ]
  },
  {
   "cell_type": "code",
   "execution_count": 51,
   "metadata": {
    "id": "vLkqD2vgJXzT"
   },
   "outputs": [],
   "source": [
    "def plot_tsp(df, Best_solution):\n",
    "    data = [{'x' : x[0], 'y' : x[1], 'city' : x[2]} for x in df.values]\n",
    "    x = [x['x'] for x in data]\n",
    "    y = [x['y'] for x in data]\n",
    "    plt.scatter(x, y, color = 'b')\n",
    "    x_init, y_init = data[Best_solution[0]]['x'], data[Best_solution[0]]['y']\n",
    "    plt.scatter(x_init, y_init, color = 'r')\n",
    "    plt.text(x_init - 3, y_init - 4, \"Start\")\n",
    "\n",
    "    x = []\n",
    "    y = []\n",
    "    x.append(x_init)\n",
    "    y.append(y_init)\n",
    "    TSP_plot = plt.plot(x, y, color = 'k')\n",
    "\n",
    "    for i, city in enumerate(Best_solution[0:]):\n",
    "        city_x, city_y = data[Best_solution[i]]['x'], data[Best_solution[i]]['y']\n",
    "        x.append(city_x)\n",
    "        y.append(city_y)  \n",
    "        plt.setp(TSP_plot, xdata = x, ydata = y)\n",
    "        plt.pause(0.3)\n",
    "\n",
    "    x.append(x_init)\n",
    "    y.append(y_init)\n",
    "    plt.setp(TSP_plot, xdata = x, ydata = y)\n",
    "    plt.pause(0.3)"
   ]
  },
  {
   "cell_type": "code",
   "execution_count": 62,
   "metadata": {
    "id": "zqXCcuxlHaW7"
   },
   "outputs": [],
   "source": [
    "population_size = 100\n",
    "Elitism_percentage = 0.05\n",
    "Crossover_Prop = 0.8\n",
    "Mutation_Prop = 0.15\n",
    "Generation_count = 200"
   ]
  },
  {
   "cell_type": "code",
   "execution_count": 53,
   "metadata": {
    "id": "87Dsk50BNPnz"
   },
   "outputs": [],
   "source": [
    "def Genatic_algorithm(population_size,Elitism_percentage,Crossover_Prop,Mutation_Prop,Generation_count):\n",
    "  data=df\n",
    "  distance=distance_matrix(len(data))\n",
    "  population_init=population(len(data))\n",
    "\n",
    "  j=cost_function(population_init,distance)\n",
    "\n",
    "  sorted_population=population_init[j.argsort()]\n",
    "\n",
    "\n",
    "  num_elit=round(len(population_init)*Elitism_percentage)\n",
    "  num_crossover=round(len(population_init)*Crossover_Prop-num_elit)\n",
    "  num_mutation=round(len(population_init)*Mutation_Prop-num_elit)\n",
    "\n",
    "  for num_gen in range(Generation_count):\n",
    "\n",
    "    new_generation=[] \n",
    "    \n",
    "    for i in range(num_elit):\n",
    "      new_generation.append(sorted_population[i])\n",
    "\n",
    "\n",
    "    for i in range(num_crossover):\n",
    "      index_1=np.random.randint(len(sorted_population)-1)\n",
    "      index_2=np.random.randint(len(sorted_population)-1)\n",
    "\n",
    "      parent_1=sorted_population[index_1]\n",
    "      parent_2=sorted_population[index_2]\n",
    "      child_1,child_2=crossover(parent_1,parent_2)\n",
    "      new_generation.append(child_1)\n",
    "      new_generation.append(child_2)\n",
    "\n",
    "      \n",
    "    for i in range(num_mutation):\n",
    "      index=np.random.randint(len(sorted_population)-1)\n",
    "      parent=sorted_population[index]\n",
    "\n",
    "      choice_mutation = np.random.choice(['Swaping_Mutation', 'InversionMutation', 'ScrambleMutation'])\n",
    "      if choice_mutation=='Swaping_Mutation':\n",
    "        child=Swaping_Mutation(parent)\n",
    "\n",
    "      elif choice_mutation=='InversionMutation':\n",
    "        child=InversionMutation(parent)\n",
    "\n",
    "\n",
    "      elif choice_mutation=='ScrambleMutation':\n",
    "        child=ScrambleMutation(parent)\n",
    "\n",
    "      new_generation.append(child) \n",
    "      \n",
    "      \n",
    "    new_generation = np.concatenate([new_generation, sorted_population]).reshape(-1, len(distance)) \n",
    "\n",
    "    J = cost_function(new_generation, distance)\n",
    "      \n",
    "    sorted_population = new_generation[J.argsort()][:50]\n",
    "\n",
    "    # Return the best solution found\n",
    "  best_solution = sorted_population[0]\n",
    "\n",
    "  best_distance = distance_chorm(best_solution, distance)\n",
    "  plot_tsp(data,best_solution) \n",
    "\n",
    "  return best_distance,best_solution\n",
    "\n",
    "\n"
   ]
  },
  {
   "cell_type": "code",
   "execution_count": 54,
   "metadata": {
    "colab": {
     "base_uri": "https://localhost:8080/",
     "height": 430
    },
    "id": "kAcHG7Y8Xpuy",
    "outputId": "63a4bd19-49c0-4eeb-8813-e7ffa6eed1db"
   },
   "outputs": [],
   "source": [
    "best_distance,best_solution=Genatic_algorithm(population_size,Elitism_percentage,Crossover_Prop,Mutation_Prop,Generation_count)"
   ]
  },
  {
   "cell_type": "code",
   "execution_count": 55,
   "metadata": {
    "colab": {
     "base_uri": "https://localhost:8080/"
    },
    "id": "ktudGT9FI4KH",
    "outputId": "c3cedc34-91bf-4e98-a0d7-4f1f0e5ebc27"
   },
   "outputs": [
    {
     "data": {
      "text/plain": [
       "284.3810904080332"
      ]
     },
     "execution_count": 55,
     "metadata": {},
     "output_type": "execute_result"
    }
   ],
   "source": [
    "best_distance"
   ]
  },
  {
   "cell_type": "code",
   "execution_count": 56,
   "metadata": {},
   "outputs": [],
   "source": [
    "def ginput():\n",
    "    points = []\n",
    "\n",
    "    # display a plot and wait for the user to click on num_points points\n",
    "    fig, ax = plt.subplots()\n",
    "    plt.xlim(0, 10)\n",
    "    plt.ylim(0, 10)\n",
    "    plt.show()\n",
    "\n",
    "    cursor = Cursor(ax, horizOn=True, vertOn=True, useblit=True, color='black', linewidth=1)\n",
    "\n",
    "    # take input fro\n",
    "    while True:\n",
    "        # get the first tuple (first point)\n",
    "        point = plt.ginput(1)\n",
    "        if point:\n",
    "            point=point[0]\n",
    "        else:\n",
    "            break\n",
    "    #         print(point)\n",
    "        points.append(point)\n",
    "        plt.plot(point[0], point[1], 'bo')\n",
    "        plt.draw()\n",
    "    return points"
   ]
  },
  {
   "cell_type": "code",
   "execution_count": 63,
   "metadata": {},
   "outputs": [],
   "source": [
    "def input_Genatic_algorithm(population_size,Elitism_percentage,Crossover_Prop,Mutation_Prop,Generation_count):\n",
    "  points = ginput()\n",
    "  data = pd.DataFrame(points, columns = ['x', 'y'])\n",
    "  data['city'] = np.random.permutation(len(points))\n",
    "\n",
    "  distance=distance_matrix(len(data))\n",
    "  population_init=population(len(data))\n",
    "\n",
    "  j=cost_function(population_init,distance)\n",
    "\n",
    "  sorted_population=population_init[j.argsort()]\n",
    "\n",
    "\n",
    "  num_elit=round(len(population_init)*Elitism_percentage)\n",
    "  num_crossover=round(len(population_init)*Crossover_Prop-num_elit)\n",
    "  num_mutation=round(len(population_init)*Mutation_Prop-num_elit)\n",
    "\n",
    "  for num_gen in range(Generation_count):\n",
    "\n",
    "    new_generation=[] \n",
    "    \n",
    "    for i in range(num_elit):\n",
    "      new_generation.append(sorted_population[i])\n",
    "\n",
    "\n",
    "    for i in range(num_crossover):\n",
    "      index_1=np.random.randint(len(sorted_population)-1)\n",
    "      index_2=np.random.randint(len(sorted_population)-1)\n",
    "\n",
    "      parent_1=sorted_population[index_1]\n",
    "      parent_2=sorted_population[index_2]\n",
    "      child_1,child_2=crossover(parent_1,parent_2)\n",
    "      new_generation.append(child_1)\n",
    "      new_generation.append(child_2)\n",
    "\n",
    "      \n",
    "    for i in range(num_mutation):\n",
    "      index=np.random.randint(len(sorted_population)-1)\n",
    "      parent=sorted_population[index]\n",
    "\n",
    "      choice_mutation = np.random.choice(['Swaping_Mutation', 'InversionMutation', 'ScrambleMutation'])\n",
    "      if choice_mutation=='Swaping_Mutation':\n",
    "        child=Swaping_Mutation(parent)\n",
    "\n",
    "      elif choice_mutation=='InversionMutation':\n",
    "        child=InversionMutation(parent)\n",
    "\n",
    "\n",
    "      elif choice_mutation=='ScrambleMutation':\n",
    "        child=ScrambleMutation(parent)\n",
    "\n",
    "      new_generation.append(child) \n",
    "      \n",
    "      \n",
    "    new_generation = np.concatenate([new_generation, sorted_population]).reshape(-1, len(distance)) \n",
    "\n",
    "    J = cost_function(new_generation, distance)\n",
    "      \n",
    "    sorted_population = new_generation[J.argsort()][:50]\n",
    "\n",
    "    # Return the best solution found\n",
    "  best_solution = sorted_population[0]\n",
    "\n",
    "  best_distance = distance_chorm(best_solution, distance)\n",
    "  plot_tsp(data,best_solution) \n",
    "\n",
    "  return best_distance,best_solution\n",
    "\n",
    "\n"
   ]
  },
  {
   "cell_type": "code",
   "execution_count": 64,
   "metadata": {},
   "outputs": [],
   "source": [
    "best_distance,best_solution=input_Genatic_algorithm(population_size,Elitism_percentage,Crossover_Prop,Mutation_Prop,Generation_count)"
   ]
  }
 ],
 "metadata": {
  "colab": {
   "provenance": []
  },
  "kernelspec": {
   "display_name": "Python 3 (ipykernel)",
   "language": "python",
   "name": "python3"
  },
  "language_info": {
   "codemirror_mode": {
    "name": "ipython",
    "version": 3
   },
   "file_extension": ".py",
   "mimetype": "text/x-python",
   "name": "python",
   "nbconvert_exporter": "python",
   "pygments_lexer": "ipython3",
   "version": "3.10.9"
  }
 },
 "nbformat": 4,
 "nbformat_minor": 1
}
